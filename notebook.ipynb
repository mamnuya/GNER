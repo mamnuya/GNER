{
 "cells": [
  {
   "cell_type": "markdown",
   "metadata": {},
   "source": [
    "## Import Requirements"
   ]
  },
  {
   "cell_type": "code",
   "execution_count": 1,
   "metadata": {},
   "outputs": [],
   "source": [
    "import nltk\n",
    "import torch\n",
    "nltk.download('punkt_tab')\n",
    "from transformers import AutoTokenizer, AutoModelForCausalLM, AutoModelForSeq2SeqLM"
   ]
  },
  {
   "cell_type": "markdown",
   "metadata": {},
   "source": [
    "## Demo Input and Instructions"
   ]
  },
  {
   "cell_type": "code",
   "execution_count": 2,
   "metadata": {},
   "outputs": [
    {
     "name": "stdout",
     "output_type": "stream",
     "text": [
      "Final Instruction:\n",
      "\n",
      "Please analyze the sentence provided, identifying the type of entity for each word on a token-by-token basis.\n",
      "Output format is: word_1(label_1), word_2(label_2), ...\n",
      "We'll use the BIO-format to label the entities, where:\n",
      "1. B- (Begin) indicates the start of a named entity.\n",
      "2. I- (Inside) is used for words within a named entity but are not the first word.\n",
      "3. O (Outside) denotes words that are not part of a named entity.\n",
      "\n",
      "Use the specific entity tags: genre, rating, review, plot, song, average ratings, director, character, trailer, year, actor, title and O.\n",
      "Sentence: did george clooney make a musical in the 1980s\n"
     ]
    }
   ],
   "source": [
    "# Demo input\n",
    "sentence = \"did george clooney make a musical in the 1980s\"\n",
    "words = nltk.word_tokenize(sentence)\n",
    "entity_labels = [\"genre\", \"rating\", \"review\", \"plot\", \"song\", \"average ratings\", \"director\", \"character\", \"trailer\", \"year\", \"actor\", \"title\"]\n",
    "# print(demo_words)\n",
    "\n",
    "# fit in the instruction template\n",
    "instruction_template = \"Please analyze the sentence provided, identifying the type of entity for each word on a token-by-token basis.\\nOutput format is: word_1(label_1), word_2(label_2), ...\\nWe'll use the BIO-format to label the entities, where:\\n1. B- (Begin) indicates the start of a named entity.\\n2. I- (Inside) is used for words within a named entity but are not the first word.\\n3. O (Outside) denotes words that are not part of a named entity.\\n\"\n",
    "instruction = f\"{instruction_template}\\nUse the specific entity tags: {', '.join(entity_labels)} and O.\\nSentence: {' '.join(words)}\"\n",
    "print(f\"Final Instruction:\\n\\n{instruction}\")"
   ]
  },
  {
   "cell_type": "markdown",
   "metadata": {},
   "source": [
    "## Load Model & Generate"
   ]
  },
  {
   "cell_type": "code",
   "execution_count": 3,
   "metadata": {},
   "outputs": [
    {
     "data": {
      "application/vnd.jupyter.widget-view+json": {
       "model_id": "647a605f759f482c95e6a7ef6476ccca",
       "version_major": 2,
       "version_minor": 0
      },
      "text/plain": [
       "Loading checkpoint shards:   0%|          | 0/2 [00:00<?, ?it/s]"
      ]
     },
     "metadata": {},
     "output_type": "display_data"
    }
   ],
   "source": [
    "# For GNER-LLaMA Model\n",
    "tokenizer = AutoTokenizer.from_pretrained(\"dyyyyyyyy/GNER-LLaMA-7B\")\n",
    "model = AutoModelForCausalLM.from_pretrained(\"dyyyyyyyy/GNER-LLaMA-7B\", torch_dtype=torch.bfloat16).cuda()\n",
    "## For LLaMA Model, instruction part are wrapped with [INST] tag\n",
    "input_texts = f\"[INST] {instruction} [/INST]\"\n",
    "inputs = tokenizer(input_texts, return_tensors=\"pt\").to(\"cuda\")\n",
    "outputs = model.generate(**inputs, max_new_tokens=640)\n",
    "response = tokenizer.decode(outputs[0], skip_special_tokens=True)\n",
    "response = response[response.find(\"[/INST]\") + len(\"[/INST]\"):].strip()\n",
    "\n",
    "# For GNER-T5 Model\n",
    "# tokenizer = AutoTokenizer.from_pretrained(\"dyyyyyyyy/GNER-T5-xxl\")\n",
    "# model = AutoModelForSeq2SeqLM.from_pretrained(\"dyyyyyyyy/GNER-T5-xxl\", torch_dtype=torch.bfloat16).cuda()\n",
    "# inputs = tokenizer(instruction, return_tensors=\"pt\").to(\"cuda\")\n",
    "# outputs = model.generate(**inputs, max_new_tokens=640)\n",
    "# response = tokenizer.decode(outputs[0], skip_special_tokens=True).strip()"
   ]
  },
  {
   "cell_type": "code",
   "execution_count": 4,
   "metadata": {},
   "outputs": [
    {
     "name": "stdout",
     "output_type": "stream",
     "text": [
      "Model Generation: \n",
      "\n",
      "did(O) george(B-actor) clooney(I-actor) make(O) a(O) musical(B-genre) in(O) the(O) 1980s(B-year)\n"
     ]
    }
   ],
   "source": [
    "print(f\"Model Generation: \\n\\n{response}\")"
   ]
  },
  {
   "cell_type": "markdown",
   "metadata": {},
   "source": [
    "## Structure"
   ]
  },
  {
   "cell_type": "code",
   "execution_count": 5,
   "metadata": {},
   "outputs": [],
   "source": [
    "# structure the generated text\n",
    "from evaluate import extract_predictions, parser\n",
    "example = {\n",
    "    \"label_list\": entity_labels,\n",
    "    \"instance\": {\"words\": words},\n",
    "    \"prediction\": response,\n",
    "}"
   ]
  },
  {
   "cell_type": "code",
   "execution_count": 6,
   "metadata": {},
   "outputs": [
    {
     "name": "stdout",
     "output_type": "stream",
     "text": [
      "Predictions (BIO-format): \n",
      "\n",
      "['O', 'B-actor', 'I-actor', 'O', 'O', 'B-genre', 'O', 'O', 'B-year']\n"
     ]
    }
   ],
   "source": [
    "# bio-format prediction\n",
    "bio_predictions = extract_predictions(example)\n",
    "print(f\"Predictions (BIO-format): \\n\\n{bio_predictions}\")"
   ]
  },
  {
   "cell_type": "code",
   "execution_count": 7,
   "metadata": {},
   "outputs": [
    {
     "name": "stdout",
     "output_type": "stream",
     "text": [
      "Predictions (Entity-level): \n",
      "\n",
      "[('george clooney', 'actor'), ('musical', 'genre'), ('1980s', 'year')]\n"
     ]
    }
   ],
   "source": [
    "# entity-level prediction\n",
    "entity_level_predictions = parser(words, bio_predictions)\n",
    "print(f\"Predictions (Entity-level): \\n\\n{entity_level_predictions}\")"
   ]
  },
  {
   "cell_type": "code",
   "execution_count": 8,
   "metadata": {},
   "outputs": [
    {
     "name": "stdout",
     "output_type": "stream",
     "text": [
      "Predictions (Json-format): \n",
      "\n",
      "{\n",
      "    \"actor\": [\n",
      "        \"george clooney\"\n",
      "    ],\n",
      "    \"genre\": [\n",
      "        \"musical\"\n",
      "    ],\n",
      "    \"year\": [\n",
      "        \"1980s\"\n",
      "    ]\n",
      "}\n"
     ]
    }
   ],
   "source": [
    "# json-format prediction\n",
    "import json\n",
    "from collections import defaultdict\n",
    "json_dict = defaultdict(list)\n",
    "for item in entity_level_predictions:\n",
    "    json_dict[item[1]].append(item[0])\n",
    "print(f\"Predictions (Json-format): \\n\\n{json.dumps(json_dict, indent=4)}\")"
   ]
  }
 ],
 "metadata": {
  "kernelspec": {
   "display_name": "dyy",
   "language": "python",
   "name": "python3"
  },
  "language_info": {
   "codemirror_mode": {
    "name": "ipython",
    "version": 3
   },
   "file_extension": ".py",
   "mimetype": "text/x-python",
   "name": "python",
   "nbconvert_exporter": "python",
   "pygments_lexer": "ipython3",
   "version": "3.9.12"
  }
 },
 "nbformat": 4,
 "nbformat_minor": 2
}
